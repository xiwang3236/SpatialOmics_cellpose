{
 "cells": [
  {
   "cell_type": "code",
   "execution_count": null,
   "metadata": {
    "vscode": {
     "languageId": "python"
    }
   },
   "outputs": [
    {
     "ename": "",
     "evalue": "",
     "output_type": "error",
     "traceback": [
      "\u001b[1;31mFailed to start the Kernel. \n",
      "\u001b[1;31mThe kernel 'Matlab' was not started as it is located in an insecure location 'c:\\ProgramData\\jupyter\\kernels\\matlab\\kernel.json'.  \n",
      "\u001b[1;31mClick <a href='https://aka.ms/JupyterTrustedKernelPaths'>here</a> for further details, optionally update the setting <a href='command:workbench.action.openSettings?[\"jupyter.kernels.trusted\"]'>jupyter.kernels.trusted</a> to trust the kernel."
     ]
    }
   ],
   "source": [
    "import numpy as np\n",
    "from cellpose import utils\n",
    "import numpy as np\n",
    "import tifffile\n",
    "from shapely.geometry import Polygon, box"
   ]
  },
  {
   "cell_type": "code",
   "execution_count": null,
   "metadata": {
    "vscode": {
     "languageId": "python"
    }
   },
   "outputs": [],
   "source": [
    "ddir = 'G:\\\\Alexis_data\\\\Project\\\\SpatialOmics_cellpose\\\\results'\n",
    "# base_path = \"G:\\Alexis_data\\Project\\SpatialOmics_cellpose\\data\\output-XETG00245__0034188__1782od__20240613__195055\"\n",
    "base_path = \"G:\\Alexis_data\\Project\\SpatialOmics_cellpose\\data\\output-XETG00245__0034188__1782os__20240613__195055\"\n",
    "fullres_chanel_0 = f\"{base_path}\\morphology_focus\\morphology_focus_0000.ome.tif\"\n",
    "fullres_chanel_2 = f\"{base_path}\\morphology_focus\\morphology_focus_0002.ome.tif\"\n",
    "sample_name = \"1782os\""
   ]
  },
  {
   "cell_type": "code",
   "execution_count": null,
   "metadata": {
    "vscode": {
     "languageId": "python"
    }
   },
   "outputs": [],
   "source": [
    "crop_size = 600/0.2125"
   ]
  },
  {
   "cell_type": "code",
   "execution_count": null,
   "metadata": {
    "vscode": {
     "languageId": "python"
    }
   },
   "outputs": [],
   "source": [
    "# um\n",
    "overlap_size = 40"
   ]
  },
  {
   "cell_type": "code",
   "execution_count": null,
   "metadata": {
    "vscode": {
     "languageId": "python"
    }
   },
   "outputs": [],
   "source": [
    "def get_image_shape(file_path):\n",
    "    with tifffile.TiffFile(file_path) as tif:\n",
    "        image = tif.asarray()\n",
    "        shape = image.shape\n",
    "    return shape\n",
    "\n",
    "# Usage\n",
    "shape = get_image_shape(fullres_chanel_0)\n",
    "image_dimensions = (shape[1], shape[2])\n",
    "print(f\"Image shape: {shape}, image_dimensions:\", image_dimensions)"
   ]
  },
  {
   "cell_type": "code",
   "execution_count": null,
   "metadata": {
    "vscode": {
     "languageId": "python"
    }
   },
   "outputs": [],
   "source": [
    "ROI_filepath = f\"{base_path}\\{sample_name}_corneasection.csv\""
   ]
  },
  {
   "cell_type": "code",
   "execution_count": null,
   "metadata": {
    "vscode": {
     "languageId": "python"
    }
   },
   "outputs": [],
   "source": [
    "import matplotlib.pyplot as plt\n",
    "import pandas as pd\n",
    "\n",
    "# Read the ROI coordinates from the CSV file\n",
    "polygon_coords = pd.read_csv(ROI_filepath)\n",
    "\n",
    "# Extract the X and Y coordinates\n",
    "x_coords = polygon_coords['X']\n",
    "y_coords = polygon_coords['Y']\n",
    "\n",
    "\n",
    "# Create a plot\n",
    "plt.figure(figsize=(6, 6))\n",
    "plt.plot(x_coords, y_coords, marker='o', linestyle='-', color='b', label='Polygon ROI', markersize=2)\n",
    "\n",
    "# Close the polygon by connecting the last point to the first\n",
    "plt.plot([x_coords.iloc[0], x_coords.iloc[-1]], [y_coords.iloc[0], y_coords.iloc[-1]], 'b-')\n",
    "\n",
    "# Adding labels and title\n",
    "plt.xlabel('X Coordinate')\n",
    "plt.ylabel('Y Coordinate')\n",
    "plt.title(\"Polygon ROI\")\n",
    "plt.legend()\n",
    "plt.grid(True)"
   ]
  },
  {
   "cell_type": "code",
   "execution_count": null,
   "metadata": {
    "vscode": {
     "languageId": "python"
    }
   },
   "outputs": [],
   "source": [
    "def crop_polygon_to_squares(polygon, square_size, overlap_size=overlap_size, with_overlap=True):\n",
    "    \"\"\"\n",
    "    Crops a polygon into square regions of a given size, with or without overlap.\n",
    "\n",
    "    Args:\n",
    "        polygon (Polygon): The input polygon to crop.\n",
    "        square_size (float): The base size of each square region (side length).\n",
    "        overlap_size (float): The amount of overlap in um (default: 40).\n",
    "        with_overlap (bool): Whether to include overlap between squares (default: True).\n",
    "\n",
    "    Returns:\n",
    "        List[Polygon]: List of square polygons that intersect with the input polygon.\n",
    "    \"\"\"\n",
    "    # Get bounding box of the polygon\n",
    "    minx, miny, maxx, maxy = polygon.bounds\n",
    "    squares = []\n",
    "\n",
    "    if with_overlap:\n",
    "        # Generate grid of overlapping squares\n",
    "        for x in range(int(minx), int(maxx), square_size):\n",
    "            for y in range(int(miny), int(maxy), square_size):\n",
    "                square = box(\n",
    "                    x,                               # minx (unchanged)\n",
    "                    y,                               # miny (unchanged)\n",
    "                    x + square_size + overlap_size,  # maxx (expanded)\n",
    "                    y + square_size + overlap_size   # maxy (expanded)\n",
    "                )\n",
    "                if polygon.intersects(square):\n",
    "                    squares.append(square)\n",
    "    else:\n",
    "        # Generate grid of non-overlapping squares\n",
    "        for x in range(int(minx), int(maxx), square_size):\n",
    "            for y in range(int(miny), int(maxy), square_size):\n",
    "                square = box(\n",
    "                    x,                    # minx\n",
    "                    y,                    # miny\n",
    "                    x + square_size,      # maxx (no overlap)\n",
    "                    y + square_size       # maxy (no overlap)\n",
    "                )\n",
    "                if polygon.intersects(square):\n",
    "                    squares.append(square)\n",
    "\n",
    "    return squares\n",
    "\n"
   ]
  },
  {
   "cell_type": "code",
   "execution_count": null,
   "metadata": {
    "vscode": {
     "languageId": "python"
    }
   },
   "outputs": [],
   "source": [
    "# 1. Rescale the coordinates\n",
    "# Levels: pixelsize in µm https://kb.10xgenomics.com/hc/en-us/articles/11636252598925\n",
    "scalefactors = {\n",
    "    0: 0.2125,\n",
    "    1: 0.4250,\n",
    "    2: 0.85,\n",
    "    3: 1.7,\n",
    "    4: 3.4,\n",
    "    5: 6.8,\n",
    "    6: 13.6,\n",
    "    7: 27.2,\n",
    "}\n",
    "\n",
    "level = 0\n",
    "pixelsize = scalefactors[level]\n",
    "\n",
    "# Rescale the coordinates\n",
    "\n",
    "scaling_factor = pixelsize\n",
    "x_coords_rescaled = x_coords / scaling_factor\n",
    "y_coords_rescaled = y_coords / scaling_factor\n",
    "\n",
    "# Combine X and Y into coordinate pairs\n",
    "rescaled_polygon_roi = list(zip(x_coords_rescaled, y_coords_rescaled))\n",
    "\n",
    "# Create a Polygon object\n",
    "rescaled_polygon_roi = Polygon(rescaled_polygon_roi)"
   ]
  },
  {
   "cell_type": "code",
   "execution_count": null,
   "metadata": {
    "vscode": {
     "languageId": "python"
    }
   },
   "outputs": [],
   "source": [
    "\n",
    "\n",
    "# Define square size\n",
    "square_size = int(crop_size) # Adjust as necessary \n",
    "\n",
    "\n",
    "# For overlapping squares\n",
    "# TODO: overlap_size/0.2125\n",
    "overlapping_squares = crop_polygon_to_squares(rescaled_polygon_roi, square_size, overlap_size=40/0.2125, with_overlap=True)\n",
    "\n",
    "# For non-overlapping squares\n",
    "non_overlapping_squares = crop_polygon_to_squares(rescaled_polygon_roi, square_size, with_overlap=False)\n",
    "\n",
    "# Visualization\n",
    "fig, ax = plt.subplots()\n",
    "# Plot the original polygon\n",
    "x, y = rescaled_polygon_roi.exterior.xy\n",
    "ax.plot(x, y, 'k-', label=\"Saddle-shaped Polygon\")  # Black for polygon\n",
    "\n",
    "# Plot the square regions\n",
    "for square in non_overlapping_squares:\n",
    "    print(\"square:\", square)\n",
    "    x, y = square.exterior.xy\n",
    "    print(\" x:\", x,\"\\n\", \"y:\", y)\n",
    "    ax.fill(x, y, edgecolor='red', alpha=0.3, label=\"Red Square\")\n",
    "\n",
    "# Add labels and legend\n",
    "ax.set_title(f\"Non-Overlapping Squares Enclosing Saddle Region\")\n",
    "ax.set_aspect('equal', 'box')\n",
    "# ax.legend(loc=\"upper left\")\n",
    "plt.show()"
   ]
  },
  {
   "cell_type": "code",
   "execution_count": null,
   "metadata": {
    "vscode": {
     "languageId": "python"
    }
   },
   "outputs": [],
   "source": [
    "\n",
    "\n",
    "# Original image size\n",
    "original_image_shape = image_dimensions  # Replace with the shape of your original image (H, W)\n",
    "\n",
    "# Initialize a blank canvas for the combined masks\n",
    "combined_mask = np.zeros(original_image_shape, dtype=np.uint16)\n",
    "\n",
    "# Function to map segmentation outlines back to original coordinates\n",
    "def map_to_original_coordinates(outlines, offset):\n",
    "\n",
    "    min_x, min_y = offset\n",
    "    \n",
    "    return [outline + np.array([min_x, min_y]) for outline in outlines]\n",
    "\n",
    "outlines_list = []\n",
    "\n",
    "# Example processing loop for 3 cropped regions\n",
    "for i, square in enumerate(overlapping_squares):\n",
    "    \n",
    "    # Stop the loop when i = 30 if 6 picture, set i + 1 = 5\n",
    "    if i + 1 == 12:\n",
    "        i1 = i + 1\n",
    "        print(\"Reached the stopping condition: number = {i1}. Exiting the loop.\")\n",
    "        break\n",
    "\n",
    "    print(f\"Processing square {i + 1}: {square}\")\n",
    "    \n",
    "    # Get bounding box of the current polygon (cropped region)\n",
    "    min_x, min_y, max_x, max_y = map(int, square.bounds)\n",
    "\n",
    "    # Load the segmentation result for the cropped region\n",
    "    segmentation_file = f\"{ddir}/segmenatation/{sample_name}/cropped_square_com_{i + 1}_seg.npy\"\n",
    "    segmentation_data = np.load(segmentation_file, allow_pickle=True).item()\n",
    "    \n",
    "    # Extract outlines from    the segmentation\n",
    "    outlines = utils.outlines_list(segmentation_data['masks'])\n",
    "\n",
    "    # Map outlines back to original coordinates\n",
    "    mapped_outlines = map_to_original_coordinates(outlines, (min_x, min_y))\n",
    "    outlines_list.extend(mapped_outlines)"
   ]
  },
  {
   "cell_type": "code",
   "execution_count": null,
   "metadata": {
    "vscode": {
     "languageId": "python"
    }
   },
   "outputs": [],
   "source": [
    "from skimage import measure "
   ]
  },
  {
   "cell_type": "code",
   "execution_count": null,
   "metadata": {
    "vscode": {
     "languageId": "python"
    }
   },
   "outputs": [],
   "source": [
    "# Example processing loop for 3 cropped regions\n",
    "for i in range(13):\n",
    "   \n",
    "    # Stop the loop when i = 30 if 6 picture, set i + 1 = 5\n",
    "    if i + 1 == 13:\n",
    "        i1 = i + 1\n",
    "        print(f\"Reached the stopping condition: number = {i1}. Exiting the loop.\")\n",
    "        break\n",
    "\n",
    "    # Load the segmentation result for the cropped region\n",
    "    segmentation_file = f\"{ddir}/segmenatation/{sample_name}/cropped_square_com_{i + 1}_seg.npy\"\n",
    "    segmentation_data = np.load(segmentation_file, allow_pickle=True).item()\n",
    "    \n",
    "    # Create and save properties DataFrame\n",
    "    props = measure.regionprops_table(segmentation_data['masks'], properties=['centroid'])\n",
    "    props_df = pd.DataFrame(props)\n",
    "    \n",
    "    # Rename the columns\n",
    "    props_df = props_df.rename(columns={\n",
    "        'centroid-0': 'centroid_y',\n",
    "        'centroid-1': 'centroid_x'\n",
    "    })\n",
    "\n",
    "    # Print number of rows (number of detected regions)\n",
    "    print(f\"Number of detected regions in region {i + 1}: {len(props_df)}\")\n",
    "    num_cells = len(props_df)\n",
    "\n",
    "    # Create output filename with the new format\n",
    "    output_filename = f\"{ddir}/segmenatation/{sample_name}/cropped_square_com_{i + 1}_centroids.csv\"\n",
    "    \n",
    "    # Save the CSV file\n",
    "    props_df.to_csv(output_filename, index=False)\n",
    "    print(f\"Properties saved to: {output_filename}\")\n",
    "    print(f\"Properties saved to: {output_filename}\")\n",
    "    "
   ]
  },
  {
   "cell_type": "code",
   "execution_count": null,
   "metadata": {
    "vscode": {
     "languageId": "python"
    }
   },
   "outputs": [],
   "source": []
  },
  {
   "cell_type": "markdown",
   "metadata": {},
   "source": [
    "## haven't done manually change"
   ]
  },
  {
   "cell_type": "code",
   "execution_count": null,
   "metadata": {
    "vscode": {
     "languageId": "python"
    }
   },
   "outputs": [],
   "source": [
    "import pandas as pd\n",
    "import glob\n",
    "import os\n",
    "\n",
    "def load_centroid_files(input_dir):\n",
    "    centroids_by_region = {}\n",
    "    \n",
    "    # Get all centroid CSV files\n",
    "    files = glob.glob(os.path.join(input_dir, '*centroids.csv'))\n",
    "    print(f\"Found {len(files)} centroid files\")\n",
    "    \n",
    "    for file in files:\n",
    "        # Extract region number from filename\n",
    "        # For pattern: cp_masks_cropped_square_com_1_centroids.csv\n",
    "        filename = os.path.basename(file)  # Get just the filename\n",
    "        region = int(filename.split('_com_')[1].split('_')[0])  # Extract number after '_com_'\n",
    "        \n",
    "        df = pd.read_csv(file)\n",
    "        centroids_by_region[region] = df\n",
    "        print(f\"Region {region}: loaded {len(df)} points\")\n",
    "        \n",
    "    return centroids_by_region\n",
    "\n",
    "# Usage\n",
    "centroids_dict = load_centroid_files(f'{ddir}/segmenatation/{sample_name}')"
   ]
  },
  {
   "cell_type": "code",
   "execution_count": null,
   "metadata": {
    "vscode": {
     "languageId": "python"
    }
   },
   "outputs": [],
   "source": [
    "import pandas as pd\n",
    "import numpy as np\n",
    "import glob\n",
    "import os\n",
    "from shapely.geometry import Point, Polygon\n",
    "import matplotlib.pyplot as plt\n",
    "\n",
    "def load_and_offset_centroids(input_dir, overlapping_squares):\n",
    "    \"\"\"\n",
    "    Load centroid CSV files and add offsets based on polygon bounds.\n",
    "    \"\"\"\n",
    "    centroids_by_region = {}\n",
    "    \n",
    "    # Get all centroid CSV files\n",
    "    files = glob.glob(os.path.join(input_dir, '*centroids.csv'))\n",
    "    print(f\"Found {len(files)} centroid files\")\n",
    "    \n",
    "    # Debug: print all found files\n",
    "    print(\"\\nFound files:\")\n",
    "    for f in files:\n",
    "        print(f\"  {os.path.basename(f)}\")\n",
    "    \n",
    "    for file in files:\n",
    "        try:\n",
    "            # Extract region number from filename\n",
    "            filename = os.path.basename(file)\n",
    "            print(f\"\\nProcessing file: {filename}\")\n",
    "            \n",
    "            # More robust filename parsing\n",
    "            parts = filename.split('_')\n",
    "            # Look for the part after 'com' and before 'centroids'\n",
    "            com_index = parts.index('com') if 'com' in parts else -1\n",
    "            if com_index != -1 and com_index + 1 < len(parts):\n",
    "                region = int(parts[com_index + 1])\n",
    "                print(f\"Extracted region number: {region}\")\n",
    "            else:\n",
    "                print(f\"Skipping file {filename} - could not extract region number\")\n",
    "                continue\n",
    "            \n",
    "            # Get corresponding polygon bounds for this region\n",
    "            if region <= len(overlapping_squares):\n",
    "                polygon = overlapping_squares[region - 1]  # region is 1-based\n",
    "                min_x, min_y, max_x, max_y = map(int, polygon.bounds)\n",
    "                \n",
    "                # Load and offset the centroids\n",
    "                df = pd.read_csv(file)\n",
    "                print(f\"Loaded {len(df)} points from CSV\")\n",
    "                \n",
    "                # Add offsets to the centroid coordinates\n",
    "                df['centroid_x'] = df['centroid_x'] + min_x\n",
    "                df['centroid_y'] = df['centroid_y'] + min_y\n",
    "                \n",
    "                centroids_by_region[region] = df\n",
    "                print(f\"Region {region}: processed {len(df)} points, offset by ({min_x}, {min_y})\")\n",
    "            else:\n",
    "                print(f\"Warning: Region {region} has no corresponding polygon (max region: {len(overlapping_squares)})\")\n",
    "                \n",
    "        except Exception as e:\n",
    "            print(f\"Error processing file {filename}: {str(e)}\")\n",
    "            print(f\"File parts: {parts}\")\n",
    "            continue\n",
    "    \n",
    "    if not centroids_by_region:\n",
    "        raise ValueError(\"No valid centroid files were processed!\")\n",
    "        \n",
    "    return centroids_by_region\n",
    "\n",
    "def map_centroids_to_nonoverlapping(centroids_dict, non_overlapping_squares):\n",
    "    \"\"\"\n",
    "    Maps offset centroids to their corresponding non-overlapping squares.\n",
    "    \"\"\"\n",
    "    mapped_centroids = []\n",
    "    points_outside = []\n",
    "    \n",
    "    # Process each region's centroids\n",
    "    for region, df in centroids_dict.items():\n",
    "        print(f\"Processing centroids from region {region}\")\n",
    "        \n",
    "        for _, row in df.iterrows():\n",
    "            point = Point(row['centroid_x'], row['centroid_y'])\n",
    "            point_mapped = False\n",
    "            \n",
    "            # Find which non-overlapping square contains this point\n",
    "            for idx, square in enumerate(non_overlapping_squares):\n",
    "                if square.contains(point):\n",
    "                    mapped_centroids.append({\n",
    "                        'original_region': region,\n",
    "                        'mapped_region': idx + 1,\n",
    "                        'centroid_x': row['centroid_x'],\n",
    "                        'centroid_y': row['centroid_y'],\n",
    "                        'cell_type': row.get('cell_type', None),\n",
    "                        'area': row.get('area', None)\n",
    "                    })\n",
    "                    point_mapped = True\n",
    "                    break\n",
    "            \n",
    "            if not point_mapped:\n",
    "                points_outside.append({\n",
    "                    'original_region': region,\n",
    "                    'centroid_x': row['centroid_x'],\n",
    "                    'centroid_y': row['centroid_y']\n",
    "                })\n",
    "    \n",
    "    # Convert to DataFrame\n",
    "    result_df = pd.DataFrame(mapped_centroids)\n",
    "    outside_df = pd.DataFrame(points_outside)\n",
    "    \n",
    "    # Print statistics\n",
    "    print(f\"\\nTotal centroids processed: {len(result_df)}\")\n",
    "    print(f\"Points not mapped to any square: {len(outside_df)}\")\n",
    "    print(\"\\nCentroids per mapped region:\")\n",
    "    if not result_df.empty:\n",
    "        print(result_df['mapped_region'].value_counts().sort_index())\n",
    "    \n",
    "    return result_df, outside_df\n",
    "\n",
    "def visualize_mapped_centroids(result_df, outside_df, non_overlapping_squares, figsize=(15, 15)):\n",
    "    \"\"\"\n",
    "    Visualizes the mapped centroids and squares.\n",
    "    \"\"\"\n",
    "    fig, ax = plt.subplots(figsize=figsize)\n",
    "    \n",
    "    # Plot non-overlapping squares\n",
    "    for idx, square in enumerate(non_overlapping_squares):\n",
    "        x, y = square.exterior.xy\n",
    "        ax.plot(x, y, 'k-', linewidth=2, alpha=0.7)\n",
    "        # Add region number label\n",
    "        centroid = square.centroid\n",
    "        ax.text(centroid.x, centroid.y, str(idx + 1), \n",
    "                horizontalalignment='center', \n",
    "                verticalalignment='center',\n",
    "                fontsize=12,\n",
    "                bbox=dict(facecolor='white', alpha=0.7, edgecolor='none'))\n",
    "    \n",
    "    # Plot mapped centroids\n",
    "    if not result_df.empty:\n",
    "        scatter = ax.scatter(result_df['centroid_x'], result_df['centroid_y'], \n",
    "                           c=result_df['mapped_region'], \n",
    "                           cmap='tab20', \n",
    "                           alpha=0.6, \n",
    "                           s=30,\n",
    "                           label='Mapped points')\n",
    "        plt.colorbar(scatter, label='Mapped Region')\n",
    "    \n",
    "    # Plot points outside any square in red\n",
    "    if not outside_df.empty:\n",
    "        ax.scatter(outside_df['centroid_x'], outside_df['centroid_y'], \n",
    "                  color='red', \n",
    "                  alpha=0.6, \n",
    "                  s=30,\n",
    "                  label='Unmapped points')\n",
    "    \n",
    "    ax.set_title('Mapped Centroids in Non-overlapping Regions')\n",
    "    ax.legend()\n",
    "    ax.set_aspect('equal')\n",
    "    plt.show()\n",
    "    \n",
    "# Example usage:\n",
    "if __name__ == \"__main__\":\n",
    "\n",
    "    input_dir = f\"{ddir}/segmenatation/{sample_name}\"\n",
    "    \n",
    "    # 1. Load and offset the centroid data using overlapping squares for offsets\n",
    "    centroids_dict = load_and_offset_centroids(input_dir, overlapping_squares)\n",
    "    \n",
    "    # 2. Map offset centroids to non-overlapping regions\n",
    "    mapped_df, outside_df = map_centroids_to_nonoverlapping(centroids_dict, non_overlapping_squares)\n",
    "    \n",
    "    # 3. Visualize the results\n",
    "    visualize_mapped_centroids(mapped_df, outside_df, non_overlapping_squares)\n",
    "    \n",
    "    # 4. Save the results\n",
    "    output_dir = input_dir\n",
    "    mapped_df.to_csv(os.path.join(output_dir, 'mapped_centroids.csv'), index=False)\n",
    "    if not outside_df.empty:\n",
    "        outside_df.to_csv(os.path.join(output_dir, 'unmapped_centroids.csv'), index=False)\n",
    "    print(f\"Results saved to: {output_dir}\")"
   ]
  },
  {
   "cell_type": "markdown",
   "metadata": {},
   "source": [
    "## If done manually correction"
   ]
  },
  {
   "cell_type": "code",
   "execution_count": null,
   "metadata": {
    "vscode": {
     "languageId": "python"
    }
   },
   "outputs": [],
   "source": [
    "\n",
    "import pandas as pd\n",
    "import numpy as np\n",
    "import glob\n",
    "import os\n",
    "from shapely.geometry import Point, Polygon\n",
    "import matplotlib.pyplot as plt\n",
    "from cellpose import utils\n",
    "\n",
    "def load_and_offset_centroids(input_dir, overlapping_squares):\n",
    "    \"\"\"\n",
    "    Load centroid CSV files and add offsets based on polygon bounds.\n",
    "    \"\"\"\n",
    "    centroids_by_region = {}\n",
    "    \n",
    "    files = glob.glob(os.path.join(input_dir, '*centroids.csv'))\n",
    "    print(f\"Found {len(files)} centroid files\")\n",
    "    \n",
    "    for file in files:\n",
    "        try:\n",
    "            filename = os.path.basename(file)\n",
    "            print(f\"\\nProcessing file: {filename}\")\n",
    "            \n",
    "            # Parse filename\n",
    "            parts = filename.split('_')\n",
    "            com_index = parts.index('com')\n",
    "            region = int(parts[com_index + 1])\n",
    "            print(f\"Extracted region number: {region}\")\n",
    "            \n",
    "            if region <= len(overlapping_squares):\n",
    "                polygon = overlapping_squares[region - 1]\n",
    "                min_x, min_y, max_x, max_y = map(int, polygon.bounds)\n",
    "                \n",
    "                df = pd.read_csv(file)\n",
    "                print(f\"Loaded {len(df)} points from CSV\")\n",
    "                \n",
    "                # Add offsets to the centroid coordinates\n",
    "                df['centroid_x'] = df['centroid_x'] + min_x\n",
    "                df['centroid_y'] = df['centroid_y'] + min_y\n",
    "                \n",
    "                centroids_by_region[region] = df\n",
    "                print(f\"Region {region}: processed {len(df)} points, offset by ({min_x}, {min_y})\")\n",
    "            else:\n",
    "                print(f\"Warning: Region {region} has no corresponding polygon\")\n",
    "                \n",
    "        except Exception as e:\n",
    "            print(f\"Error processing file {filename}: {str(e)}\")\n",
    "            continue\n",
    "    \n",
    "    return centroids_by_region\n",
    "\n",
    "def map_centroids_to_nonoverlapping(centroids_dict, non_overlapping_squares):\n",
    "    \"\"\"\n",
    "    Maps offset centroids to their corresponding non-overlapping squares.\n",
    "    Returns both mapped centroids and mapping information for cell IDs.\n",
    "    \"\"\"\n",
    "    mapped_centroids = []\n",
    "    points_outside = []\n",
    "    cell_mapping = {}  # To store which cells belong to which non-overlapping region\n",
    "    \n",
    "    for region, df in centroids_dict.items():\n",
    "        print(f\"Processing centroids from region {region}\")\n",
    "        cell_mapping[region] = {}  # Initialize mapping for this region\n",
    "        \n",
    "        for idx, row in df.iterrows():\n",
    "            point = Point(row['centroid_x'], row['centroid_y'])\n",
    "            point_mapped = False\n",
    "            cell_id = idx + 1  # Assuming 1-based cell IDs\n",
    "            \n",
    "            for square_idx, square in enumerate(non_overlapping_squares):\n",
    "                if square.contains(point):\n",
    "                    mapped_data = {\n",
    "                        'original_region': region,\n",
    "                        'mapped_region': square_idx + 1,\n",
    "                        'cell_id': cell_id,\n",
    "                        'centroid_x': row['centroid_x'],\n",
    "                        'centroid_y': row['centroid_y'],\n",
    "                        'cell_type': row.get('cell_type', None),\n",
    "                        'area': row.get('area', None)\n",
    "                    }\n",
    "                    mapped_centroids.append(mapped_data)\n",
    "                    \n",
    "                    # Store mapping information\n",
    "                    if region not in cell_mapping:\n",
    "                        cell_mapping[region] = {}\n",
    "                    cell_mapping[region][cell_id] = square_idx + 1\n",
    "                    \n",
    "                    point_mapped = True\n",
    "                    break\n",
    "            \n",
    "            if not point_mapped:\n",
    "                points_outside.append({\n",
    "                    'original_region': region,\n",
    "                    'cell_id': cell_id,\n",
    "                    'centroid_x': row['centroid_x'],\n",
    "                    'centroid_y': row['centroid_y']\n",
    "                })\n",
    "    \n",
    "    result_df = pd.DataFrame(mapped_centroids)\n",
    "    outside_df = pd.DataFrame(points_outside)\n",
    "    \n",
    "    print(f\"\\nTotal centroids processed: {len(result_df)}\")\n",
    "    print(f\"Points not mapped to any square: {len(outside_df)}\")\n",
    "    if not result_df.empty:\n",
    "        print(\"\\nCentroids per mapped region:\")\n",
    "        print(result_df['mapped_region'].value_counts().sort_index())\n",
    "    \n",
    "    return result_df, outside_df, cell_mapping\n",
    "\n",
    "def map_and_filter_outlines(input_dir, overlapping_squares, cell_mapping):\n",
    "    \"\"\"\n",
    "    Load, filter, and map outlines based on the cell mapping from centroids.\n",
    "    \"\"\"\n",
    "    filtered_outlines_list = []\n",
    "    region_info = []\n",
    "    \n",
    "    for region, valid_cells_dict in cell_mapping.items():\n",
    "        if not valid_cells_dict:  # Skip if no valid cells in this region\n",
    "            continue\n",
    "            \n",
    "        try:\n",
    "            # Get region bounds\n",
    "            polygon = overlapping_squares[region - 1]\n",
    "            min_x, min_y, max_x, max_y = map(int, polygon.bounds)\n",
    "            \n",
    "            # Load segmentation data\n",
    "            seg_file = os.path.join(input_dir, f'cropped_square_com_{region}_seg.npy')\n",
    "            seg_data = np.load(seg_file, allow_pickle=True).item()\n",
    "            outlines = utils.outlines_list(seg_data['masks'])\n",
    "            \n",
    "            # Filter and map outlines\n",
    "            for cell_id, mapped_region in valid_cells_dict.items():\n",
    "                if cell_id <= len(outlines):  # Make sure we have this outline\n",
    "                    outline = outlines[cell_id - 1]  # Convert to 0-based index\n",
    "                    # Add offset to outline coordinates\n",
    "                    mapped_outline = outline + np.array([min_x, min_y])\n",
    "                    filtered_outlines_list.append(mapped_outline)\n",
    "                    region_info.append({\n",
    "                        'original_region': region,\n",
    "                        'mapped_region': mapped_region,\n",
    "                        'cell_id': cell_id\n",
    "                    })\n",
    "            \n",
    "            print(f\"Region {region}: Processed {len(valid_cells_dict)} outlines\")\n",
    "            \n",
    "        except Exception as e:\n",
    "            print(f\"Error processing outlines for region {region}: {str(e)}\")\n",
    "            continue\n",
    "    \n",
    "    return filtered_outlines_list, pd.DataFrame(region_info)\n",
    "\n",
    "def visualize_mapped_data(result_df, outside_df, filtered_outlines_list, non_overlapping_squares, figsize=(15, 15)):\n",
    "    \"\"\"\n",
    "    Visualizes the mapped centroids, outlines, and squares.\n",
    "    \"\"\"\n",
    "    fig, ax = plt.subplots(figsize=figsize)\n",
    "    \n",
    "    # Plot non-overlapping squares\n",
    "    for idx, square in enumerate(non_overlapping_squares):\n",
    "        x, y = square.exterior.xy\n",
    "        ax.plot(x, y, 'k-', linewidth=2, alpha=0.7)\n",
    "        centroid = square.centroid\n",
    "        ax.text(centroid.x, centroid.y, str(idx + 1), \n",
    "                horizontalalignment='center', \n",
    "                verticalalignment='center',\n",
    "                fontsize=12,\n",
    "                bbox=dict(facecolor='white', alpha=0.7, edgecolor='none'))\n",
    "    \n",
    "    # Plot mapped centroids\n",
    "    if not result_df.empty:\n",
    "        scatter = ax.scatter(result_df['centroid_x'], result_df['centroid_y'], \n",
    "                           c=result_df['mapped_region'], \n",
    "                           cmap='tab20', \n",
    "                           alpha=0.6, \n",
    "                           s=30,\n",
    "                           label='Mapped points')\n",
    "        plt.colorbar(scatter, label='Mapped Region')\n",
    "    \n",
    "    # Plot points outside any square\n",
    "    if not outside_df.empty:\n",
    "        ax.scatter(outside_df['centroid_x'], outside_df['centroid_y'], \n",
    "                  color='red', \n",
    "                  alpha=0.6, \n",
    "                  s=30,\n",
    "                  label='Unmapped points')\n",
    "    \n",
    "    # Plot outlines\n",
    "    for outline in filtered_outlines_list:\n",
    "        ax.plot(outline[:, 0], outline[:, 1], 'g-', linewidth=1, alpha=0.5)\n",
    "    \n",
    "    ax.set_title('Mapped Centroids and Cell Outlines')\n",
    "    ax.legend()\n",
    "    ax.set_aspect('equal')\n",
    "    plt.show()\n",
    "\n",
    "# Example usage:\n",
    "if __name__ == \"__main__\":\n",
    "    input_dir = f\"{ddir}/segmenatation/{sample_name}\"\n",
    "    \n",
    "    # 1. Load and offset centroids\n",
    "    centroids_dict = load_and_offset_centroids(input_dir, overlapping_squares)\n",
    "    \n",
    "    # 2. Map centroids and get cell mapping\n",
    "    mapped_df, outside_df, cell_mapping = map_centroids_to_nonoverlapping(centroids_dict, non_overlapping_squares)\n",
    "    \n",
    "    # 3. Load and map outlines\n",
    "    filtered_outlines_list, outline_info = map_and_filter_outlines(input_dir, overlapping_squares, cell_mapping)\n",
    "    \n",
    "    # 4. Visualize results\n",
    "    visualize_mapped_data(mapped_df, outside_df, filtered_outlines_list, non_overlapping_squares)\n",
    "    \n",
    "    # 5. Save results\n",
    "    output_dir = input_dir\n",
    "    mapped_df.to_csv(os.path.join(output_dir, 'mapped_centroids.csv'), index=False)\n",
    "    if not outside_df.empty:\n",
    "        outside_df.to_csv(os.path.join(output_dir, 'unmapped_centroids.csv'), index=False)\n",
    "    outline_info.to_csv(os.path.join(output_dir, 'outline_mapping.csv'), index=False)\n",
    "    print(f\"\\nResults saved to: {output_dir}\")\n",
    "    "
   ]
  },
  {
   "cell_type": "markdown",
   "metadata": {},
   "source": [
    "# M- continue"
   ]
  },
  {
   "cell_type": "code",
   "execution_count": null,
   "metadata": {
    "vscode": {
     "languageId": "python"
    }
   },
   "outputs": [],
   "source": [
    "def boundaries_to_table(boundaries):\n",
    "    # Create an empty list to store data rows\n",
    "    data = []\n",
    "    \n",
    "    # Loop through each boundary (each cell)\n",
    "    for cell_id, boundary in enumerate(boundaries, start=1):\n",
    "        # Loop through each point in the boundary\n",
    "        for point in boundary:\n",
    "            # Append cell_id, x, y to the data list\n",
    "            data.append([cell_id, point[0], point[1]])\n",
    "    \n",
    "    # Create a DataFrame with the data\n",
    "    df = pd.DataFrame(data, columns=['cell_id', 'vertex_x', 'vertex_y'])\n",
    "    \n",
    "    return df\n"
   ]
  },
  {
   "cell_type": "code",
   "execution_count": null,
   "metadata": {
    "vscode": {
     "languageId": "python"
    }
   },
   "outputs": [],
   "source": [
    "# Convert boundaries to table\n",
    "df_outlines_list = boundaries_to_table(filtered_outlines_list)"
   ]
  },
  {
   "cell_type": "code",
   "execution_count": null,
   "metadata": {
    "vscode": {
     "languageId": "python"
    }
   },
   "outputs": [],
   "source": [
    "df_outlines_list.to_csv(f\"{ddir}/segmenatation/{sample_name}/cellpose_cell_boundaries_{sample_name}.csv\", index=False)\n",
    "print(\"Saved successly\" )"
   ]
  },
  {
   "cell_type": "code",
   "execution_count": null,
   "metadata": {
    "vscode": {
     "languageId": "python"
    }
   },
   "outputs": [],
   "source": [
    "def reduce_points(df):\n",
    "    # Group by cell_id and get counts\n",
    "    cell_counts = df.groupby('cell_id').size()\n",
    "    \n",
    "    new_df = pd.DataFrame()\n",
    "    \n",
    "    for cell_id in cell_counts.index:\n",
    "        cell_data = df[df['cell_id'] == cell_id]\n",
    "        \n",
    "        if cell_counts[cell_id] > 50:\n",
    "            # Keep every other row until we have 50 points\n",
    "            reduced_data = cell_data.iloc[::2].head(50)\n",
    "        elif 30 < cell_counts[cell_id] <= 50:\n",
    "            # Keep every other row until we have 30 points\n",
    "            reduced_data = cell_data.iloc[::2].head(30)\n",
    "        else:\n",
    "            # Keep all points if count <= 30\n",
    "            reduced_data = cell_data\n",
    "            \n",
    "        new_df = pd.concat([new_df, reduced_data])\n",
    "    \n",
    "    return new_df.reset_index(drop=True)"
   ]
  },
  {
   "cell_type": "code",
   "execution_count": null,
   "metadata": {
    "vscode": {
     "languageId": "python"
    }
   },
   "outputs": [],
   "source": [
    "# Apply the function\n",
    "reduced_outlines_list = reduce_points(df_outlines_list)\n",
    "\n",
    "# Print the results\n",
    "print(\"Original shape:\", df_outlines_list.shape)\n",
    "print(\"Reduced shape:\", reduced_outlines_list.shape)\n"
   ]
  },
  {
   "cell_type": "code",
   "execution_count": null,
   "metadata": {
    "vscode": {
     "languageId": "python"
    }
   },
   "outputs": [],
   "source": [
    "reduced_outlines_list.to_csv(f'{ddir}/segmenatation/{sample_name}/cellpose_cell_boundaries_{sample_name}.csv', index=False)\n",
    "print(\"Saved successly\" )"
   ]
  },
  {
   "cell_type": "code",
   "execution_count": null,
   "metadata": {
    "vscode": {
     "languageId": "python"
    }
   },
   "outputs": [],
   "source": [
    "unique_cell_count = reduced_outlines_list['cell_id'].nunique()\n",
    "# unique_cell_count = boundary_df['cell_id'].nunique()\n",
    "\n",
    "unique_cell_count"
   ]
  },
  {
   "cell_type": "code",
   "execution_count": null,
   "metadata": {
    "vscode": {
     "languageId": "python"
    }
   },
   "outputs": [],
   "source": [
    "def calculate_centroids(df):\n",
    "    # Group the DataFrame by 'cell_id'\n",
    "    grouped = df.groupby('cell_id')\n",
    "    \n",
    "    # Calculate centroids for each group\n",
    "    centroids = grouped[['vertex_x', 'vertex_y']].mean().reset_index()\n",
    "    \n",
    "    # Rename columns if needed to indicate centroids explicitly\n",
    "    centroids.rename(columns={'vertex_x': 'centroid_x', 'vertex_y': 'centroid_y'}, inplace=True)\n",
    "    \n",
    "    return centroids\n"
   ]
  },
  {
   "cell_type": "code",
   "execution_count": null,
   "metadata": {
    "vscode": {
     "languageId": "python"
    }
   },
   "outputs": [],
   "source": [
    "# Calculate centroids for each cell\n",
    "centroids_df = calculate_centroids(reduced_outlines_list)\n",
    "centroids_df"
   ]
  },
  {
   "cell_type": "code",
   "execution_count": null,
   "metadata": {
    "vscode": {
     "languageId": "python"
    }
   },
   "outputs": [],
   "source": [
    "centroids_df.to_csv(f'{ddir}/segmenatation/{sample_name}/cellpose_cell_centroids_{sample_name}.csv', index=False)\n",
    "print(\"Saved successly\" )"
   ]
  },
  {
   "cell_type": "code",
   "execution_count": null,
   "metadata": {
    "vscode": {
     "languageId": "python"
    }
   },
   "outputs": [],
   "source": [
    "# Process to append the first row of each cell group\n",
    "Outlines_list_final = (\n",
    "    reduced_outlines_list.groupby('cell_id', group_keys=False)\n",
    "    .apply(lambda group: pd.concat([group, group.iloc[[0]]], ignore_index=True))\n",
    ")\n",
    "\n",
    "Outlines_list_final"
   ]
  },
  {
   "cell_type": "code",
   "execution_count": null,
   "metadata": {
    "vscode": {
     "languageId": "python"
    }
   },
   "outputs": [],
   "source": [
    "Outlines_list_final.to_csv(f'{ddir}/segmenatation/{sample_name}/cellpose_cell_boundaries_{sample_name}.csv', index=False)\n",
    "print(\"Saved successly\" )"
   ]
  }
 ],
 "metadata": {
  "kernelspec": {
   "display_name": "Matlab",
   "language": "matlab",
   "name": "matlab"
  },
  "language_info": {
   "codemirror_mode": {
    "name": "ipython",
    "version": 3
   },
   "file_extension": ".py",
   "mimetype": "text/x-python",
   "name": "matlab",
   "nbconvert_exporter": "python",
   "pygments_lexer": "ipython3",
   "version": "3.11.10"
  }
 },
 "nbformat": 4,
 "nbformat_minor": 2
}
