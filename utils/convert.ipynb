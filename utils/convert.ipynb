{
 "cells": [
  {
   "cell_type": "code",
   "execution_count": 2,
   "metadata": {},
   "outputs": [
    {
     "name": "stdout",
     "output_type": "stream",
     "text": [
      "Processing: cropped_polygon_x10757_y2720_width800.tif\n",
      "Saved: G:\\Alexis_data\\Project\\SpatialOmics_cellpose\\results\\cropped_image\\1835trainingset\\convert_result\\cropped_polygon_x10757_y2720_width800.tif\n",
      "Processing: cropped_polygon_x14094_y9567_width800.tif\n",
      "Saved: G:\\Alexis_data\\Project\\SpatialOmics_cellpose\\results\\cropped_image\\1835trainingset\\convert_result\\cropped_polygon_x14094_y9567_width800.tif\n",
      "Processing: cropped_polygon_x14117_y8094_width800.tif\n",
      "Saved: G:\\Alexis_data\\Project\\SpatialOmics_cellpose\\results\\cropped_image\\1835trainingset\\convert_result\\cropped_polygon_x14117_y8094_width800.tif\n",
      "Processing: cropped_polygon_x16235_y8094_width800.tif\n",
      "Saved: G:\\Alexis_data\\Project\\SpatialOmics_cellpose\\results\\cropped_image\\1835trainingset\\convert_result\\cropped_polygon_x16235_y8094_width800.tif\n",
      "Processing: cropped_polygon_x3000_y12000_width800.tif\n",
      "Saved: G:\\Alexis_data\\Project\\SpatialOmics_cellpose\\results\\cropped_image\\1835trainingset\\convert_result\\cropped_polygon_x3000_y12000_width800.tif\n",
      "Processing: cropped_polygon_x7247_y14117_width800.tif\n",
      "Saved: G:\\Alexis_data\\Project\\SpatialOmics_cellpose\\results\\cropped_image\\1835trainingset\\convert_result\\cropped_polygon_x7247_y14117_width800.tif\n"
     ]
    }
   ],
   "source": [
    "import os\n",
    "import tifffile\n",
    "import numpy as np\n",
    "from pathlib import Path\n",
    "\n",
    "# Define input and output directories\n",
    "input_dir = r\"G:\\Alexis_data\\Project\\SpatialOmics_cellpose\\results\\cropped_image\\1835trainingset\\convert\"\n",
    "output_dir = r\"G:\\Alexis_data\\Project\\SpatialOmics_cellpose\\results\\cropped_image\\1835trainingset\\convert_result\"  # You can change this path\n",
    "\n",
    "# Create output directory if it doesn't exist\n",
    "os.makedirs(output_dir, exist_ok=True)\n",
    "\n",
    "# Function to process single image\n",
    "def process_tif_image(input_path, output_path):\n",
    "    # Read the TIF image\n",
    "    img = tifffile.imread(input_path)\n",
    "    \n",
    "    # Select channels 1 and 3 (index 0 and 2)\n",
    "    # Create a new 3-channel image (RGB)\n",
    "    merged_img = np.zeros((img.shape[1], img.shape[2], 3), dtype=np.uint16)\n",
    "    \n",
    "    # Set channel 1 as red (R)\n",
    "    merged_img[:, :, 0] = img[0, :, :]\n",
    "    \n",
    "    # Set channel 3 as green (G)\n",
    "    merged_img[:, :, 1] = img[2, :, :]\n",
    "    \n",
    "    # Save the merged image\n",
    "    tifffile.imwrite(output_path, merged_img)\n",
    "\n",
    "# Process all TIF files in the input directory\n",
    "def process_all_images():\n",
    "    # Get all TIF files in the input directory\n",
    "    input_files = list(Path(input_dir).glob('*.tif'))\n",
    "    \n",
    "    for input_file in input_files:\n",
    "        # Create output filename\n",
    "        output_file = os.path.join(output_dir, f\"{input_file.name}\")\n",
    "        \n",
    "        print(f\"Processing: {input_file.name}\")\n",
    "        try:\n",
    "            process_tif_image(str(input_file), output_file)\n",
    "            print(f\"Saved: {output_file}\")\n",
    "        except Exception as e:\n",
    "            print(f\"Error processing {input_file.name}: {str(e)}\")\n",
    "\n",
    "if __name__ == \"__main__\":\n",
    "    process_all_images()"
   ]
  }
 ],
 "metadata": {
  "kernelspec": {
   "display_name": "Python 3",
   "language": "python",
   "name": "python3"
  },
  "language_info": {
   "codemirror_mode": {
    "name": "ipython",
    "version": 3
   },
   "file_extension": ".py",
   "mimetype": "text/x-python",
   "name": "python",
   "nbconvert_exporter": "python",
   "pygments_lexer": "ipython3",
   "version": "3.11.10"
  }
 },
 "nbformat": 4,
 "nbformat_minor": 2
}
