{
 "cells": [
  {
   "cell_type": "markdown",
   "id": "23914d2f",
   "metadata": {},
   "source": [
    "# RESEGMENTATION PIPELINE"
   ]
  },
  {
   "cell_type": "code",
   "execution_count": null,
   "id": "723e9449",
   "metadata": {},
   "outputs": [],
   "source": [
    "import SRC_RESEG.crop_image as crop_image\n"
   ]
  },
  {
   "cell_type": "markdown",
   "id": "02096c1c",
   "metadata": {},
   "source": [
    "## Set up source and destination folders"
   ]
  },
  {
   "cell_type": "code",
   "execution_count": null,
   "id": "a79c7635",
   "metadata": {},
   "outputs": [],
   "source": [
    "import pandas as pd\n",
    "import matplotlib.pyplot as plt\n",
    "import tifffile\n",
    "from shapely.geometry import Polygon, box"
   ]
  },
  {
   "cell_type": "code",
   "execution_count": null,
   "id": "a6324759",
   "metadata": {},
   "outputs": [],
   "source": [
    "ddir = 'G:\\\\Alexis_data\\\\Project\\\\SpatialOmics_cellpose\\\\results'\n",
    "base_path = \"G:\\Alexis_data\\Project\\SpatialOmics_cellpose\\data5k\\output-XETG00245__0041374__Section_1_1886OD__20250326__175738\"\n",
    "\n",
    "# Select first and third hannels for segmentation (can only select two) \n",
    "fullres_chanel_0 = f\"{base_path}\\morphology_focus\\morphology_focus_0000.ome.tif\"\n",
    "fullres_chanel_2 = f\"{base_path}\\morphology_focus\\morphology_focus_0002.ome.tif\"\n",
    "sample_name = \"1886od\"\n",
    "\n",
    "# Levels: pixelsize in µm https://kb.10xgenomics.com/hc/en-us/articles/11636252598925\n",
    "scalefactors = {\n",
    "    0: 0.2125,\n",
    "    1: 0.4250,\n",
    "    2: 0.85,\n",
    "    3: 1.7,\n",
    "    4: 3.4,\n",
    "    5: 6.8,\n",
    "    6: 13.6,\n",
    "    7: 27.2,\n",
    "}\n",
    "\n",
    "# Define resolution level and crop size in pixels\n",
    "level = 0\n",
    "crop_size = 600/pixel_size = scalefactors[level] "
   ]
  },
  {
   "cell_type": "markdown",
   "id": "1d009412",
   "metadata": {},
   "source": [
    "## Define the region of interest (ROI)"
   ]
  },
  {
   "cell_type": "code",
   "execution_count": null,
   "id": "efe55a5f",
   "metadata": {},
   "outputs": [],
   "source": [
    "ROI_filepath = f\"{base_path}\\{sample_name}_coords.csv\"\n",
    "\n",
    "# Read the ROI coordinates from the CSV file\n",
    "plot_roi(ROI_filepath)"
   ]
  },
  {
   "cell_type": "code",
   "execution_count": null,
   "id": "6bcf3347",
   "metadata": {},
   "outputs": [],
   "source": [
    "masked_image, mask = create_masked_image(image_chanel_0, x_coords, y_coords, pixelsize)\n",
    "visualize_masking(image_chanel_0, mask, masked_image)"
   ]
  }
 ],
 "metadata": {
  "language_info": {
   "name": "python"
  }
 },
 "nbformat": 4,
 "nbformat_minor": 5
}
